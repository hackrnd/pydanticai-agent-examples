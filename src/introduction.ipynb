{
 "cells": [
  {
   "cell_type": "markdown",
   "metadata": {},
   "source": [
    "\n",
    "<br>\n",
    "Introduction to PydanticAI.<br>\n",
    "This module demonstrates how PydanticAI makes it easier to build<br>\n",
    "production-grade LLM-powered systems with type safety and structured responses.<br>\n"
   ]
  },
  {
   "cell_type": "code",
   "execution_count": 77,
   "metadata": {},
   "outputs": [],
   "source": [
    "from typing import Dict, List, Optional\n",
    "#import nest_asyncio\n",
    "from pydantic import BaseModel, Field\n",
    "from pydantic_ai import Agent, ModelRetry, RunContext, Tool\n",
    "from pydantic_ai.models.openai import OpenAIModel"
   ]
  },
  {
   "cell_type": "code",
   "execution_count": 78,
   "metadata": {},
   "outputs": [],
   "source": [
    "from utils.markdown import to_markdown\n",
    "import nest_asyncio\n",
    "nest_asyncio.apply()"
   ]
  },
  {
   "cell_type": "code",
   "execution_count": 79,
   "metadata": {},
   "outputs": [],
   "source": [
    "model = OpenAIModel(base_url=\"https://openrouter.ai/api/v1\", model_name=\"google/gemini-2.0-flash-exp:free\")"
   ]
  },
  {
   "cell_type": "code",
   "execution_count": 80,
   "metadata": {},
   "outputs": [],
   "source": [
    "class ResponseModel(BaseModel):\n",
    "    \"\"\"Structured response with metadata.\"\"\"\n",
    "    response: str\n",
    "    needs_escalation: bool\n",
    "    follow_up_required: bool\n",
    "    sentiment: str = Field(description=\"Customer sentiment analysis\")"
   ]
  },
  {
   "cell_type": "code",
   "execution_count": 81,
   "metadata": {},
   "outputs": [],
   "source": [
    "class Order(BaseModel):\n",
    "    \"\"\"Structure for order details.\"\"\"\n",
    "    order_id: str\n",
    "    status: str\n",
    "    items: List[str]"
   ]
  },
  {
   "cell_type": "code",
   "execution_count": 82,
   "metadata": {},
   "outputs": [],
   "source": [
    "class CustomerDetails(BaseModel):\n",
    "    \"\"\"Structure for incoming customer queries.\"\"\"\n",
    "    customer_id: str\n",
    "    name: str\n",
    "    email: str\n",
    "    orders: Optional[List[Order]] = None"
   ]
  },
  {
   "cell_type": "code",
   "execution_count": 83,
   "metadata": {},
   "outputs": [],
   "source": [
    "customer = CustomerDetails(\n",
    "    customer_id=\"1\",\n",
    "    name=\"John Doe\",\n",
    "    email=\"john.doe@example.com\",\n",
    "    orders=[\n",
    "        Order(order_id=\"12345\", status=\"shipped\", items=[\"Blue Jeans\", \"T-Shirt\"]),\n",
    "    ],\n",
    ")"
   ]
  },
  {
   "cell_type": "code",
   "execution_count": 84,
   "metadata": {},
   "outputs": [],
   "source": [
    "shipping_info_db: Dict[str, str] = {\n",
    "    \"12345\": \"Shipped on 2024-12-01\",\n",
    "    \"67890\": \"Out for delivery\",\n",
    "}"
   ]
  },
  {
   "cell_type": "code",
   "execution_count": 85,
   "metadata": {},
   "outputs": [],
   "source": [
    "def get_shipping_info(ctx: RunContext[CustomerDetails]) -> str:\n",
    "    \"\"\"Get the customer's shipping information.\"\"\"\n",
    "    return shipping_info_db[ctx.deps.orders[0].order_id]"
   ]
  },
  {
   "cell_type": "code",
   "execution_count": 86,
   "metadata": {},
   "outputs": [],
   "source": [
    "agent5 = Agent(\n",
    "    model=model,\n",
    "    result_type=ResponseModel,\n",
    "    deps_type=CustomerDetails,\n",
    "    retries=3,\n",
    "    system_prompt=(\n",
    "        \"You are an intelligent customer support agent. \"\n",
    "        \"Analyze queries carefully and provide structured responses. \"\n",
    "        \"Use tools to look up relevant information.\"\n",
    "        \"Always great the customer and provide a helpful response.\"\n",
    "    ),  # These are known when writing the code\n",
    "    tools=[Tool(get_shipping_info, takes_ctx=True)],  # Add tool via kwarg\n",
    ")"
   ]
  },
  {
   "cell_type": "code",
   "execution_count": 87,
   "metadata": {},
   "outputs": [],
   "source": [
    "@agent5.system_prompt\n",
    "async def add_customer_name(ctx: RunContext[CustomerDetails]) -> str:\n",
    "    return f\"Customer details: {to_markdown(ctx.deps)}\""
   ]
  },
  {
   "cell_type": "code",
   "execution_count": 88,
   "metadata": {},
   "outputs": [],
   "source": [
    "response = agent5.run_sync(\n",
    "    user_prompt=\"What's the status of my last order?\", deps=customer\n",
    ")"
   ]
  },
  {
   "cell_type": "code",
   "execution_count": null,
   "metadata": {},
   "outputs": [],
   "source": [
    "response.all_messages()\n",
    "print(response.data.model_dump_json(indent=2))"
   ]
  },
  {
   "cell_type": "markdown",
   "metadata": {},
   "source": [
    "----"
   ]
  },
  {
   "cell_type": "markdown",
   "metadata": {},
   "source": [
    "\n",
    "<br>\n",
    "This example demonstrates advanced agent capabilities with self-correction.<br>\n",
    "Key concepts:<br>\n",
    "- Implementing self-reflection<br>\n",
    "- Handling errors gracefully with retries<br>\n",
    "- Using ModelRetry for automatic retries<br>\n",
    "- Decorator-based tool registration<br>\n"
   ]
  },
  {
   "cell_type": "markdown",
   "metadata": {},
   "source": [
    "Simulated database of shipping information"
   ]
  },
  {
   "cell_type": "code",
   "execution_count": 90,
   "metadata": {},
   "outputs": [],
   "source": [
    "shipping_info_db: Dict[str, str] = {\n",
    "    \"#12345\": \"Shipped on 2024-12-01\",\n",
    "    \"#67890\": \"Out for delivery\",\n",
    "}"
   ]
  },
  {
   "cell_type": "code",
   "execution_count": 91,
   "metadata": {},
   "outputs": [],
   "source": [
    "customer = CustomerDetails(\n",
    "    customer_id=\"1\",\n",
    "    name=\"John Doe\",\n",
    "    email=\"john.doe@example.com\",\n",
    ")"
   ]
  },
  {
   "cell_type": "markdown",
   "metadata": {},
   "source": [
    "Agent with reflection and self-correction"
   ]
  },
  {
   "cell_type": "code",
   "execution_count": 92,
   "metadata": {},
   "outputs": [],
   "source": [
    "agent5 = Agent(\n",
    "    model=model,\n",
    "    result_type=ResponseModel,\n",
    "    deps_type=CustomerDetails,\n",
    "    retries=3,\n",
    "    system_prompt=(\n",
    "        \"You are an intelligent customer support agent. \"\n",
    "        \"Analyze queries carefully and provide structured responses. \"\n",
    "        \"Use tools to look up relevant information. \"\n",
    "        \"Always greet the customer and provide a helpful response.\"\n",
    "    ),\n",
    ")"
   ]
  },
  {
   "cell_type": "code",
   "execution_count": 93,
   "metadata": {},
   "outputs": [],
   "source": [
    "@agent5.tool_plain()  # Add plain tool via decorator\n",
    "def get_shipping_status(order_id: str) -> str:\n",
    "    \"\"\"Get the shipping status for a given order ID.\"\"\"\n",
    "    shipping_status = shipping_info_db.get(order_id)\n",
    "    if shipping_status is None:\n",
    "        raise ModelRetry(\n",
    "            f\"No shipping information found for order ID {order_id}. \"\n",
    "            \"Make sure the order ID starts with a #: e.g, #624743 \"\n",
    "            \"Self-correct this if needed and try again.\"\n",
    "        )\n",
    "    return shipping_info_db[order_id]"
   ]
  },
  {
   "cell_type": "code",
   "execution_count": 94,
   "metadata": {},
   "outputs": [],
   "source": [
    "response = agent5.run_sync(\n",
    "    user_prompt=\"What's the status of my last order 12345?\", deps=customer\n",
    ")"
   ]
  },
  {
   "cell_type": "code",
   "execution_count": null,
   "metadata": {},
   "outputs": [],
   "source": [
    "response.all_messages()\n",
    "print(response.data.model_dump_json(indent=2))"
   ]
  }
 ],
 "metadata": {
  "kernelspec": {
   "display_name": "Python 3",
   "language": "python",
   "name": "python3"
  },
  "language_info": {
   "codemirror_mode": {
    "name": "ipython",
    "version": 3
   },
   "file_extension": ".py",
   "mimetype": "text/x-python",
   "name": "python",
   "nbconvert_exporter": "python",
   "pygments_lexer": "ipython3",
   "version": "3.6.4"
  }
 },
 "nbformat": 4,
 "nbformat_minor": 2
}
